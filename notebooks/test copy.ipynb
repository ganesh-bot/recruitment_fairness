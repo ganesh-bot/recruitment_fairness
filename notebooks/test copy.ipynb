{
 "cells": [
  {
   "cell_type": "code",
   "execution_count": 2,
   "id": "62ed509e",
   "metadata": {},
   "outputs": [
    {
     "name": "stdout",
     "output_type": "stream",
     "text": [
      "Mismatched rows: 41/177\n"
     ]
    },
    {
     "data": {
      "text/html": [
       "<div>\n",
       "<style scoped>\n",
       "    .dataframe tbody tr th:only-of-type {\n",
       "        vertical-align: middle;\n",
       "    }\n",
       "\n",
       "    .dataframe tbody tr th {\n",
       "        vertical-align: top;\n",
       "    }\n",
       "\n",
       "    .dataframe thead th {\n",
       "        text-align: right;\n",
       "    }\n",
       "</style>\n",
       "<table border=\"1\" class=\"dataframe\">\n",
       "  <thead>\n",
       "    <tr style=\"text-align: right;\">\n",
       "      <th></th>\n",
       "      <th>nct_id</th>\n",
       "      <th>planned_enrollment</th>\n",
       "      <th>actual_enrollment</th>\n",
       "      <th>ratio</th>\n",
       "      <th>y_recruit</th>\n",
       "      <th>label_check</th>\n",
       "    </tr>\n",
       "  </thead>\n",
       "  <tbody>\n",
       "    <tr>\n",
       "      <th>2</th>\n",
       "      <td>NCT00679679</td>\n",
       "      <td>30.0</td>\n",
       "      <td>30.0</td>\n",
       "      <td>1.0</td>\n",
       "      <td>0.0</td>\n",
       "      <td>1</td>\n",
       "    </tr>\n",
       "    <tr>\n",
       "      <th>6</th>\n",
       "      <td>NCT01220479</td>\n",
       "      <td>59.0</td>\n",
       "      <td>59.0</td>\n",
       "      <td>1.0</td>\n",
       "      <td>0.0</td>\n",
       "      <td>1</td>\n",
       "    </tr>\n",
       "    <tr>\n",
       "      <th>9</th>\n",
       "      <td>NCT01411579</td>\n",
       "      <td>57.0</td>\n",
       "      <td>57.0</td>\n",
       "      <td>1.0</td>\n",
       "      <td>0.0</td>\n",
       "      <td>1</td>\n",
       "    </tr>\n",
       "    <tr>\n",
       "      <th>16</th>\n",
       "      <td>NCT06195579</td>\n",
       "      <td>6.0</td>\n",
       "      <td>6.0</td>\n",
       "      <td>1.0</td>\n",
       "      <td>0.0</td>\n",
       "      <td>1</td>\n",
       "    </tr>\n",
       "    <tr>\n",
       "      <th>19</th>\n",
       "      <td>NCT03972579</td>\n",
       "      <td>64.0</td>\n",
       "      <td>64.0</td>\n",
       "      <td>1.0</td>\n",
       "      <td>0.0</td>\n",
       "      <td>1</td>\n",
       "    </tr>\n",
       "  </tbody>\n",
       "</table>\n",
       "</div>"
      ],
      "text/plain": [
       "         nct_id  planned_enrollment  actual_enrollment  ratio  y_recruit  \\\n",
       "2   NCT00679679                30.0               30.0    1.0        0.0   \n",
       "6   NCT01220479                59.0               59.0    1.0        0.0   \n",
       "9   NCT01411579                57.0               57.0    1.0        0.0   \n",
       "16  NCT06195579                 6.0                6.0    1.0        0.0   \n",
       "19  NCT03972579                64.0               64.0    1.0        0.0   \n",
       "\n",
       "    label_check  \n",
       "2             1  \n",
       "6             1  \n",
       "9             1  \n",
       "16            1  \n",
       "19            1  "
      ]
     },
     "metadata": {},
     "output_type": "display_data"
    }
   ],
   "source": [
    "import pandas as pd\n",
    "from pathlib import Path\n",
    "from recruitment_fairness.data.preprocess import ClinicalTrialPreprocessor\n",
    "\n",
    "# 1) reload your processed test split\n",
    "proc = ClinicalTrialPreprocessor(data_dir=\"data/raw\", processed_dir=\"data/processed\")\n",
    "test = pd.read_csv(Path(\"data/processed\") / \"test.csv\")\n",
    "\n",
    "# 2) compute the actual/planned ratio and compare to your y_recruit threshold (0.8)\n",
    "test[\"ratio\"] = test[\"actual_enrollment\"] / test[\"planned_enrollment\"]\n",
    "test[\"label_check\"] = (test[\"ratio\"] >= 0.8).astype(int)\n",
    "\n",
    "# 3) how many mismatches?\n",
    "mismatches = (test[\"label_check\"] != test[\"y_recruit\"]).sum()\n",
    "print(f\"Mismatched rows: {mismatches}/{len(test)}\")\n",
    "\n",
    "# 4) peek at the first few mismatches\n",
    "display(test[test[\"label_check\"] != test[\"y_recruit\"]]\n",
    "        .loc[:, [\"nct_id\",\"planned_enrollment\",\"actual_enrollment\",\"ratio\",\"y_recruit\",\"label_check\"]]\n",
    "        .head())\n"
   ]
  },
  {
   "cell_type": "markdown",
   "id": "819a334a",
   "metadata": {},
   "source": []
  }
 ],
 "metadata": {
  "kernelspec": {
   "display_name": ".venv",
   "language": "python",
   "name": "python3"
  },
  "language_info": {
   "codemirror_mode": {
    "name": "ipython",
    "version": 3
   },
   "file_extension": ".py",
   "mimetype": "text/x-python",
   "name": "python",
   "nbconvert_exporter": "python",
   "pygments_lexer": "ipython3",
   "version": "3.12.10"
  }
 },
 "nbformat": 4,
 "nbformat_minor": 5
}
