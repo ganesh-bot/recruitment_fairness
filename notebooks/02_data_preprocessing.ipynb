{
 "cells": [
  {
   "cell_type": "markdown",
   "id": "9c08dd3e",
   "metadata": {},
   "source": [
    "# 02: Data Preprocessing  \n",
    "**Objective:** split data, extract text features, encode categorical, and export final arrays.\n"
   ]
  },
  {
   "cell_type": "code",
   "execution_count": null,
   "id": "7406776d",
   "metadata": {
    "vscode": {
     "languageId": "plaintext"
    }
   },
   "outputs": [],
   "source": [
    "import pandas as pd\n",
    "from recruitment_fairness.data.loader import load_trials\n",
    "from recruitment_fairness.data.preprocess import (\n",
    "    split_trials,\n",
    "    vectorize_conditions,\n",
    "    encode_phases,\n",
    "    save_npz\n",
    ")\n"
   ]
  },
  {
   "cell_type": "code",
   "execution_count": null,
   "id": "f7429058",
   "metadata": {
    "vscode": {
     "languageId": "plaintext"
    }
   },
   "outputs": [],
   "source": [
    "df = load_trials()\n",
    "print(\"Total trials:\", len(df))\n",
    "df.head()\n"
   ]
  },
  {
   "cell_type": "code",
   "execution_count": null,
   "id": "8e8b7a63",
   "metadata": {
    "vscode": {
     "languageId": "plaintext"
    }
   },
   "outputs": [],
   "source": [
    "train, val, test = split_trials(df, test_size=0.2, val_size=0.1)\n",
    "print(f\"Splits — train: {len(train)}, val: {len(val)}, test: {len(test)}\")\n"
   ]
  },
  {
   "cell_type": "code",
   "execution_count": null,
   "id": "434e1e94",
   "metadata": {
    "vscode": {
     "languageId": "plaintext"
    }
   },
   "outputs": [],
   "source": [
    "X_tr, X_va, X_te, tfidf = vectorize_conditions(\n",
    "    train[\"Condition\"], val[\"Condition\"], test[\"Condition\"]\n",
    ")\n",
    "print(\"TF-IDF feature count:\", X_tr.shape[1])\n"
   ]
  },
  {
   "cell_type": "code",
   "execution_count": null,
   "id": "eea1f248",
   "metadata": {
    "vscode": {
     "languageId": "plaintext"
    }
   },
   "outputs": [],
   "source": [
    "Xp_tr, Xp_va, Xp_te, phase_enc = encode_phases(\n",
    "    train[\"Phase\"], val[\"Phase\"], test[\"Phase\"]\n",
    ")\n",
    "print(\"Phase one-hot dims:\", Xp_tr.shape[1])\n"
   ]
  },
  {
   "cell_type": "code",
   "execution_count": null,
   "id": "4dfff111",
   "metadata": {
    "vscode": {
     "languageId": "plaintext"
    }
   },
   "outputs": [],
   "source": [
    "Xp_tr, Xp_va, Xp_te, phase_enc = encode_phases(\n",
    "    train[\"Phase\"], val[\"Phase\"], test[\"Phase\"]\n",
    ")\n",
    "print(\"Phase one-hot dims:\", Xp_tr.shape[1])\n"
   ]
  },
  {
   "cell_type": "code",
   "execution_count": null,
   "id": "002c844c",
   "metadata": {
    "vscode": {
     "languageId": "plaintext"
    }
   },
   "outputs": [],
   "source": [
    "# e.g. label‐encode the target if needed\n",
    "from sklearn.preprocessing import LabelEncoder\n",
    "le = LabelEncoder()\n",
    "y_tr = le.fit_transform(train[\"OverallStatus\"])\n",
    "y_va = le.transform(val[\"OverallStatus\"])\n",
    "y_te = le.transform(test[\"OverallStatus\"])\n"
   ]
  },
  {
   "cell_type": "code",
   "execution_count": null,
   "id": "e080a80a",
   "metadata": {
    "vscode": {
     "languageId": "plaintext"
    }
   },
   "outputs": [],
   "source": [
    "save_npz(\n",
    "    out_dir=\"data/processed\",\n",
    "    X_dict={\"train\": X_tr, \"val\": X_va, \"test\": X_te},\n",
    "    y_dict={\"train\": y_tr, \"val\": y_va, \"test\": y_te},\n",
    ")\n",
    "print(\"Saved to data/processed/*.npz\")\n"
   ]
  },
  {
   "cell_type": "code",
   "execution_count": null,
   "id": "933f81ae",
   "metadata": {
    "vscode": {
     "languageId": "plaintext"
    }
   },
   "outputs": [],
   "source": [
    "import numpy as np\n",
    "loader = lambda split: np.load(f\"data/processed/{split}.npz\")[\"X\"]\n",
    "print(\"Loaded shape:\", loader(\"train\").shape)\n"
   ]
  }
 ],
 "metadata": {
  "language_info": {
   "name": "python"
  }
 },
 "nbformat": 4,
 "nbformat_minor": 5
}
