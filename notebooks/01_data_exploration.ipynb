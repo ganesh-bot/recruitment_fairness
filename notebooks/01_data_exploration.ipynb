{
 "cells": [
  {
   "cell_type": "markdown",
   "id": "259ec5ed",
   "metadata": {},
   "source": [
    "# 01: Data Exploration\n",
    "**Objective:** load clinical trial data and verify its shape, columns, and basic distributions.\n"
   ]
  },
  {
   "cell_type": "code",
   "execution_count": 3,
   "id": "4c833e37",
   "metadata": {},
   "outputs": [],
   "source": [
    "# Cell 2: imports\n",
    "import pandas as pd\n",
    "from recruitment_fairness.data.loader import load_trials\n"
   ]
  },
  {
   "cell_type": "code",
   "execution_count": 1,
   "id": "7450f3ab",
   "metadata": {},
   "outputs": [
    {
     "name": "stderr",
     "output_type": "stream",
     "text": [
      "Fetching 'all': 100%|██████████| 8000/8000 [00:30<00:00, 266.48it/s]"
     ]
    },
    {
     "name": "stdout",
     "output_type": "stream",
     "text": [
      "Dataset shape: (8000, 16)\n",
      "overall_status\n",
      "COMPLETED                  0.545750\n",
      "UNKNOWN                    0.147125\n",
      "RECRUITING                 0.125875\n",
      "TERMINATED                 0.055875\n",
      "NOT_YET_RECRUITING         0.041625\n",
      "ACTIVE_NOT_RECRUITING      0.040125\n",
      "WITHDRAWN                  0.029375\n",
      "ENROLLING_BY_INVITATION    0.008500\n",
      "SUSPENDED                  0.002500\n",
      "WITHHELD                   0.001500\n",
      "NO_LONGER_AVAILABLE        0.000875\n",
      "APPROVED_FOR_MARKETING     0.000500\n",
      "AVAILABLE                  0.000375\n",
      "Name: proportion, dtype: float64\n"
     ]
    },
    {
     "name": "stderr",
     "output_type": "stream",
     "text": [
      "\n"
     ]
    },
    {
     "data": {
      "text/html": [
       "<div>\n",
       "<style scoped>\n",
       "    .dataframe tbody tr th:only-of-type {\n",
       "        vertical-align: middle;\n",
       "    }\n",
       "\n",
       "    .dataframe tbody tr th {\n",
       "        vertical-align: top;\n",
       "    }\n",
       "\n",
       "    .dataframe thead th {\n",
       "        text-align: right;\n",
       "    }\n",
       "</style>\n",
       "<table border=\"1\" class=\"dataframe\">\n",
       "  <thead>\n",
       "    <tr style=\"text-align: right;\">\n",
       "      <th></th>\n",
       "      <th>nct_id</th>\n",
       "      <th>overall_status</th>\n",
       "      <th>phase</th>\n",
       "      <th>intervention_names</th>\n",
       "      <th>condition_mesh</th>\n",
       "      <th>study_type</th>\n",
       "      <th>sponsor</th>\n",
       "      <th>enrollment_count</th>\n",
       "      <th>start_date</th>\n",
       "      <th>completion_date</th>\n",
       "      <th>primary_completion_date</th>\n",
       "      <th>gender</th>\n",
       "      <th>min_age</th>\n",
       "      <th>max_age</th>\n",
       "      <th>allocation</th>\n",
       "      <th>masking</th>\n",
       "    </tr>\n",
       "  </thead>\n",
       "  <tbody>\n",
       "    <tr>\n",
       "      <th>0</th>\n",
       "      <td>NCT05013879</td>\n",
       "      <td>COMPLETED</td>\n",
       "      <td>NA</td>\n",
       "      <td>None</td>\n",
       "      <td>None</td>\n",
       "      <td>INTERVENTIONAL</td>\n",
       "      <td>None</td>\n",
       "      <td>65.0</td>\n",
       "      <td>2021-10-18</td>\n",
       "      <td>2023-11-24</td>\n",
       "      <td>2023-11-24</td>\n",
       "      <td>None</td>\n",
       "      <td>50 Years</td>\n",
       "      <td>85 Years</td>\n",
       "      <td>RANDOMIZED</td>\n",
       "      <td>NONE</td>\n",
       "    </tr>\n",
       "    <tr>\n",
       "      <th>1</th>\n",
       "      <td>NCT01402479</td>\n",
       "      <td>COMPLETED</td>\n",
       "      <td>PHASE2</td>\n",
       "      <td>None</td>\n",
       "      <td>None</td>\n",
       "      <td>INTERVENTIONAL</td>\n",
       "      <td>None</td>\n",
       "      <td>50.0</td>\n",
       "      <td>2004-10</td>\n",
       "      <td>2005-07</td>\n",
       "      <td>2005-07</td>\n",
       "      <td>None</td>\n",
       "      <td>20 Years</td>\n",
       "      <td>70 Years</td>\n",
       "      <td>NON_RANDOMIZED</td>\n",
       "      <td>NONE</td>\n",
       "    </tr>\n",
       "    <tr>\n",
       "      <th>2</th>\n",
       "      <td>NCT00812279</td>\n",
       "      <td>COMPLETED</td>\n",
       "      <td>NA</td>\n",
       "      <td>None</td>\n",
       "      <td>None</td>\n",
       "      <td>INTERVENTIONAL</td>\n",
       "      <td>None</td>\n",
       "      <td>112.0</td>\n",
       "      <td>2008-11</td>\n",
       "      <td>2009-02</td>\n",
       "      <td>2009-02</td>\n",
       "      <td>None</td>\n",
       "      <td>23 Years</td>\n",
       "      <td>55 Years</td>\n",
       "      <td>RANDOMIZED</td>\n",
       "      <td>NONE</td>\n",
       "    </tr>\n",
       "    <tr>\n",
       "      <th>3</th>\n",
       "      <td>NCT03878979</td>\n",
       "      <td>COMPLETED</td>\n",
       "      <td>PHASE2</td>\n",
       "      <td>None</td>\n",
       "      <td>None</td>\n",
       "      <td>INTERVENTIONAL</td>\n",
       "      <td>None</td>\n",
       "      <td>26.0</td>\n",
       "      <td>2019-07-08</td>\n",
       "      <td>2023-10-17</td>\n",
       "      <td>2023-10-17</td>\n",
       "      <td>None</td>\n",
       "      <td>18 Years</td>\n",
       "      <td>None</td>\n",
       "      <td>NON_RANDOMIZED</td>\n",
       "      <td>SINGLE</td>\n",
       "    </tr>\n",
       "    <tr>\n",
       "      <th>4</th>\n",
       "      <td>NCT03058679</td>\n",
       "      <td>COMPLETED</td>\n",
       "      <td>NA</td>\n",
       "      <td>None</td>\n",
       "      <td>None</td>\n",
       "      <td>INTERVENTIONAL</td>\n",
       "      <td>None</td>\n",
       "      <td>197.0</td>\n",
       "      <td>2017-09-29</td>\n",
       "      <td>2020-03-01</td>\n",
       "      <td>2020-03-01</td>\n",
       "      <td>None</td>\n",
       "      <td>18 Years</td>\n",
       "      <td>None</td>\n",
       "      <td>RANDOMIZED</td>\n",
       "      <td>NONE</td>\n",
       "    </tr>\n",
       "  </tbody>\n",
       "</table>\n",
       "</div>"
      ],
      "text/plain": [
       "        nct_id overall_status   phase intervention_names condition_mesh  \\\n",
       "0  NCT05013879      COMPLETED      NA               None           None   \n",
       "1  NCT01402479      COMPLETED  PHASE2               None           None   \n",
       "2  NCT00812279      COMPLETED      NA               None           None   \n",
       "3  NCT03878979      COMPLETED  PHASE2               None           None   \n",
       "4  NCT03058679      COMPLETED      NA               None           None   \n",
       "\n",
       "       study_type sponsor  enrollment_count  start_date completion_date  \\\n",
       "0  INTERVENTIONAL    None              65.0  2021-10-18      2023-11-24   \n",
       "1  INTERVENTIONAL    None              50.0     2004-10         2005-07   \n",
       "2  INTERVENTIONAL    None             112.0     2008-11         2009-02   \n",
       "3  INTERVENTIONAL    None              26.0  2019-07-08      2023-10-17   \n",
       "4  INTERVENTIONAL    None             197.0  2017-09-29      2020-03-01   \n",
       "\n",
       "  primary_completion_date gender   min_age   max_age      allocation masking  \n",
       "0              2023-11-24   None  50 Years  85 Years      RANDOMIZED    NONE  \n",
       "1                 2005-07   None  20 Years  70 Years  NON_RANDOMIZED    NONE  \n",
       "2                 2009-02   None  23 Years  55 Years      RANDOMIZED    NONE  \n",
       "3              2023-10-17   None  18 Years      None  NON_RANDOMIZED  SINGLE  \n",
       "4              2020-03-01   None  18 Years      None      RANDOMIZED    NONE  "
      ]
     },
     "execution_count": 1,
     "metadata": {},
     "output_type": "execute_result"
    }
   ],
   "source": [
    "from recruitment_fairness.data.loader import ClinicalTrialsLoader\n",
    "\n",
    "loader = ClinicalTrialsLoader(cache_dir=\"data/raw\")\n",
    "df = loader.fetch_trials(query=\"\", max_studies=8000, force_refresh=False)\n",
    "\n",
    "print(\"Dataset shape:\", df.shape)\n",
    "print(df[\"overall_status\"].value_counts(normalize=True))\n",
    "\n",
    "df.head()\n"
   ]
  },
  {
   "cell_type": "code",
   "execution_count": 4,
   "id": "08e4c783",
   "metadata": {},
   "outputs": [
    {
     "ename": "HTTPError",
     "evalue": "404 Client Error: Not Found for url: https://clinicaltrials.gov/api/query/study_fields?expr=&fields=NCTId,OverallStatus,Phase,Condition,InterventionName&min_rnk=1&max_rnk=1000&fmt=csv",
     "output_type": "error",
     "traceback": [
      "\u001b[31m---------------------------------------------------------------------------\u001b[39m",
      "\u001b[31mHTTPError\u001b[39m                                 Traceback (most recent call last)",
      "\u001b[36mCell\u001b[39m\u001b[36m \u001b[39m\u001b[32mIn[4]\u001b[39m\u001b[32m, line 2\u001b[39m\n\u001b[32m      1\u001b[39m \u001b[38;5;66;03m# Cell 3: load data\u001b[39;00m\n\u001b[32m----> \u001b[39m\u001b[32m2\u001b[39m df = \u001b[43mload_trials\u001b[49m\u001b[43m(\u001b[49m\u001b[43m)\u001b[49m\n\u001b[32m      3\u001b[39m \u001b[38;5;28mprint\u001b[39m(\u001b[33mf\u001b[39m\u001b[33m\"\u001b[39m\u001b[33mLoaded \u001b[39m\u001b[38;5;132;01m{\u001b[39;00m\u001b[38;5;28mlen\u001b[39m(df)\u001b[38;5;132;01m}\u001b[39;00m\u001b[33m trials\u001b[39m\u001b[33m\"\u001b[39m)\n\u001b[32m      4\u001b[39m df.head()\n",
      "\u001b[36mFile \u001b[39m\u001b[32mD:\\Sem2\\Research paper last round\\projectcode\\FinalProject\\recruitment_fairness\\src\\recruitment_fairness\\data\\loader.py:38\u001b[39m, in \u001b[36mload_trials\u001b[39m\u001b[34m(force_download)\u001b[39m\n\u001b[32m     34\u001b[39m \u001b[38;5;28;01mdef\u001b[39;00m\u001b[38;5;250m \u001b[39m\u001b[34mload_trials\u001b[39m(force_download: \u001b[38;5;28mbool\u001b[39m = \u001b[38;5;28;01mFalse\u001b[39;00m) -> pd.DataFrame:\n\u001b[32m     35\u001b[39m \u001b[38;5;250m    \u001b[39m\u001b[33;03m\"\"\"\u001b[39;00m\n\u001b[32m     36\u001b[39m \u001b[33;03m    Wrapper that returns a cleaned DataFrame of trials, downloading if needed.\u001b[39;00m\n\u001b[32m     37\u001b[39m \u001b[33;03m    \"\"\"\u001b[39;00m\n\u001b[32m---> \u001b[39m\u001b[32m38\u001b[39m     df = \u001b[43mdownload_trials\u001b[49m\u001b[43m(\u001b[49m\u001b[43mforce\u001b[49m\u001b[43m=\u001b[49m\u001b[43mforce_download\u001b[49m\u001b[43m)\u001b[49m\n\u001b[32m     39\u001b[39m     \u001b[38;5;28;01mreturn\u001b[39;00m clean_dataframe(df)\n",
      "\u001b[36mFile \u001b[39m\u001b[32mD:\\Sem2\\Research paper last round\\projectcode\\FinalProject\\recruitment_fairness\\src\\recruitment_fairness\\data\\loader.py:28\u001b[39m, in \u001b[36mdownload_trials\u001b[39m\u001b[34m(max_rank, force)\u001b[39m\n\u001b[32m     26\u001b[39m url = API_URL.replace(\u001b[33m\"\u001b[39m\u001b[33m1000\u001b[39m\u001b[33m\"\u001b[39m, \u001b[38;5;28mstr\u001b[39m(max_rank))\n\u001b[32m     27\u001b[39m resp = requests.get(url)\n\u001b[32m---> \u001b[39m\u001b[32m28\u001b[39m \u001b[43mresp\u001b[49m\u001b[43m.\u001b[49m\u001b[43mraise_for_status\u001b[49m\u001b[43m(\u001b[49m\u001b[43m)\u001b[49m\n\u001b[32m     29\u001b[39m df = pd.read_csv(pd.compat.StringIO(resp.text))\n\u001b[32m     30\u001b[39m df.to_csv(CACHE_FILE, index=\u001b[38;5;28;01mFalse\u001b[39;00m)\n",
      "\u001b[36mFile \u001b[39m\u001b[32md:\\Sem2\\Research paper last round\\projectcode\\FinalProject\\recruitment_fairness\\.venv\\Lib\\site-packages\\requests\\models.py:1026\u001b[39m, in \u001b[36mResponse.raise_for_status\u001b[39m\u001b[34m(self)\u001b[39m\n\u001b[32m   1021\u001b[39m     http_error_msg = (\n\u001b[32m   1022\u001b[39m         \u001b[33mf\u001b[39m\u001b[33m\"\u001b[39m\u001b[38;5;132;01m{\u001b[39;00m\u001b[38;5;28mself\u001b[39m.status_code\u001b[38;5;132;01m}\u001b[39;00m\u001b[33m Server Error: \u001b[39m\u001b[38;5;132;01m{\u001b[39;00mreason\u001b[38;5;132;01m}\u001b[39;00m\u001b[33m for url: \u001b[39m\u001b[38;5;132;01m{\u001b[39;00m\u001b[38;5;28mself\u001b[39m.url\u001b[38;5;132;01m}\u001b[39;00m\u001b[33m\"\u001b[39m\n\u001b[32m   1023\u001b[39m     )\n\u001b[32m   1025\u001b[39m \u001b[38;5;28;01mif\u001b[39;00m http_error_msg:\n\u001b[32m-> \u001b[39m\u001b[32m1026\u001b[39m     \u001b[38;5;28;01mraise\u001b[39;00m HTTPError(http_error_msg, response=\u001b[38;5;28mself\u001b[39m)\n",
      "\u001b[31mHTTPError\u001b[39m: 404 Client Error: Not Found for url: https://clinicaltrials.gov/api/query/study_fields?expr=&fields=NCTId,OverallStatus,Phase,Condition,InterventionName&min_rnk=1&max_rnk=1000&fmt=csv"
     ]
    }
   ],
   "source": [
    "# Cell 3: load data\n",
    "df = load_trials()\n",
    "print(f\"Loaded {len(df)} trials\")\n",
    "df.head()\n"
   ]
  },
  {
   "cell_type": "code",
   "execution_count": 5,
   "id": "3bcadbf3",
   "metadata": {},
   "outputs": [
    {
     "name": "stderr",
     "output_type": "stream",
     "text": [
      "Fetching 'diabetes': 100%|██████████| 300/300 [00:07<00:00, 41.81it/s]"
     ]
    },
    {
     "name": "stdout",
     "output_type": "stream",
     "text": [
      "✅ 300 rows saved to data\\raw\\raw_clinical_trials_diabetes_20250724_151857.csv\n",
      "Shape: (300, 6)\n"
     ]
    },
    {
     "name": "stderr",
     "output_type": "stream",
     "text": [
      "\n"
     ]
    },
    {
     "data": {
      "text/html": [
       "<div>\n",
       "<style scoped>\n",
       "    .dataframe tbody tr th:only-of-type {\n",
       "        vertical-align: middle;\n",
       "    }\n",
       "\n",
       "    .dataframe tbody tr th {\n",
       "        vertical-align: top;\n",
       "    }\n",
       "\n",
       "    .dataframe thead th {\n",
       "        text-align: right;\n",
       "    }\n",
       "</style>\n",
       "<table border=\"1\" class=\"dataframe\">\n",
       "  <thead>\n",
       "    <tr style=\"text-align: right;\">\n",
       "      <th></th>\n",
       "      <th>nct_id</th>\n",
       "      <th>brief_title</th>\n",
       "      <th>overall_status</th>\n",
       "      <th>start_date</th>\n",
       "      <th>phases</th>\n",
       "      <th>enrollment_count</th>\n",
       "    </tr>\n",
       "  </thead>\n",
       "  <tbody>\n",
       "    <tr>\n",
       "      <th>0</th>\n",
       "      <td>NCT02914730</td>\n",
       "      <td>Insulin Dosing Practices in Persons With Diabe...</td>\n",
       "      <td>COMPLETED</td>\n",
       "      <td>2016-09</td>\n",
       "      <td></td>\n",
       "      <td>75</td>\n",
       "    </tr>\n",
       "    <tr>\n",
       "      <th>1</th>\n",
       "      <td>NCT01051830</td>\n",
       "      <td>A Care Model for Hip-fractured Elderly Persons...</td>\n",
       "      <td>COMPLETED</td>\n",
       "      <td>2010-01</td>\n",
       "      <td>NA</td>\n",
       "      <td>176</td>\n",
       "    </tr>\n",
       "    <tr>\n",
       "      <th>2</th>\n",
       "      <td>NCT03078725</td>\n",
       "      <td>Failure Rate of GLyburide And Metformin Among ...</td>\n",
       "      <td>WITHDRAWN</td>\n",
       "      <td>2017-06-20</td>\n",
       "      <td>PHASE4</td>\n",
       "      <td>0</td>\n",
       "    </tr>\n",
       "    <tr>\n",
       "      <th>3</th>\n",
       "      <td>NCT01474525</td>\n",
       "      <td>Managing Diabetes During Pregnancy in the Wire...</td>\n",
       "      <td>UNKNOWN</td>\n",
       "      <td>2010-01</td>\n",
       "      <td>NA</td>\n",
       "      <td>100</td>\n",
       "    </tr>\n",
       "    <tr>\n",
       "      <th>4</th>\n",
       "      <td>NCT06335225</td>\n",
       "      <td>Establishment of Precise Nutrition Management ...</td>\n",
       "      <td>RECRUITING</td>\n",
       "      <td>2024-03-13</td>\n",
       "      <td>NA</td>\n",
       "      <td>60</td>\n",
       "    </tr>\n",
       "  </tbody>\n",
       "</table>\n",
       "</div>"
      ],
      "text/plain": [
       "        nct_id                                        brief_title  \\\n",
       "0  NCT02914730  Insulin Dosing Practices in Persons With Diabe...   \n",
       "1  NCT01051830  A Care Model for Hip-fractured Elderly Persons...   \n",
       "2  NCT03078725  Failure Rate of GLyburide And Metformin Among ...   \n",
       "3  NCT01474525  Managing Diabetes During Pregnancy in the Wire...   \n",
       "4  NCT06335225  Establishment of Precise Nutrition Management ...   \n",
       "\n",
       "  overall_status  start_date  phases  enrollment_count  \n",
       "0      COMPLETED     2016-09                        75  \n",
       "1      COMPLETED     2010-01      NA               176  \n",
       "2      WITHDRAWN  2017-06-20  PHASE4                 0  \n",
       "3        UNKNOWN     2010-01      NA               100  \n",
       "4     RECRUITING  2024-03-13      NA                60  "
      ]
     },
     "execution_count": 5,
     "metadata": {},
     "output_type": "execute_result"
    }
   ],
   "source": [
    "# Cell 2: imports\n",
    "from recruitment_fairness.data.collector import ClinicalTrialsWebCollector\n",
    "\n",
    "# Cell 3: instantiate & fetch\n",
    "collector = ClinicalTrialsWebCollector(output_dir=\"data/raw\")\n",
    "df = collector.search_trials(query_term=\"diabetes\", max_studies=300)\n",
    "\n",
    "print(\"Shape:\", df.shape)\n",
    "df.head()"
   ]
  },
  {
   "cell_type": "code",
   "execution_count": 4,
   "id": "bda14667",
   "metadata": {},
   "outputs": [
    {
     "data": {
      "text/plain": [
       "overall_status\n",
       "COMPLETED                  0.545750\n",
       "UNKNOWN                    0.147125\n",
       "RECRUITING                 0.125875\n",
       "TERMINATED                 0.055875\n",
       "NOT_YET_RECRUITING         0.041625\n",
       "ACTIVE_NOT_RECRUITING      0.040125\n",
       "WITHDRAWN                  0.029375\n",
       "ENROLLING_BY_INVITATION    0.008500\n",
       "SUSPENDED                  0.002500\n",
       "WITHHELD                   0.001500\n",
       "NO_LONGER_AVAILABLE        0.000875\n",
       "APPROVED_FOR_MARKETING     0.000500\n",
       "AVAILABLE                  0.000375\n",
       "Name: proportion, dtype: float64"
      ]
     },
     "execution_count": 4,
     "metadata": {},
     "output_type": "execute_result"
    }
   ],
   "source": [
    "# Cell 4: unique statuses\n",
    "df[\"overall_status\"].value_counts(normalize=True)\n"
   ]
  },
  {
   "cell_type": "code",
   "execution_count": 6,
   "id": "7334fe7f",
   "metadata": {},
   "outputs": [
    {
     "ename": "ImportError",
     "evalue": "matplotlib is required for plotting when the default backend \"matplotlib\" is selected.",
     "output_type": "error",
     "traceback": [
      "\u001b[31m---------------------------------------------------------------------------\u001b[39m",
      "\u001b[31mImportError\u001b[39m                               Traceback (most recent call last)",
      "\u001b[36mCell\u001b[39m\u001b[36m \u001b[39m\u001b[32mIn[6]\u001b[39m\u001b[32m, line 2\u001b[39m\n\u001b[32m      1\u001b[39m \u001b[38;5;66;03m# Cell 5: distribution by phase\u001b[39;00m\n\u001b[32m----> \u001b[39m\u001b[32m2\u001b[39m \u001b[43mdf\u001b[49m\u001b[43m[\u001b[49m\u001b[33;43m\"\u001b[39;49m\u001b[33;43mphase\u001b[39;49m\u001b[33;43m\"\u001b[39;49m\u001b[43m]\u001b[49m\u001b[43m.\u001b[49m\u001b[43mvalue_counts\u001b[49m\u001b[43m(\u001b[49m\u001b[43m)\u001b[49m\u001b[43m.\u001b[49m\u001b[43mplot\u001b[49m\u001b[43m.\u001b[49m\u001b[43mbar\u001b[49m\u001b[43m(\u001b[49m\u001b[43m)\u001b[49m;\n",
      "\u001b[36mFile \u001b[39m\u001b[32md:\\Sem2\\Research paper last round\\projectcode\\FinalProject\\recruitment_fairness\\.venv\\Lib\\site-packages\\pandas\\plotting\\_core.py:1192\u001b[39m, in \u001b[36mPlotAccessor.bar\u001b[39m\u001b[34m(self, x, y, **kwargs)\u001b[39m\n\u001b[32m   1102\u001b[39m \u001b[38;5;129m@Appender\u001b[39m(\n\u001b[32m   1103\u001b[39m \u001b[38;5;250m    \u001b[39m\u001b[33;03m\"\"\"\u001b[39;00m\n\u001b[32m   1104\u001b[39m \u001b[33;03m    See Also\u001b[39;00m\n\u001b[32m   (...)\u001b[39m\u001b[32m   1181\u001b[39m     \u001b[38;5;28mself\u001b[39m, x: Hashable | \u001b[38;5;28;01mNone\u001b[39;00m = \u001b[38;5;28;01mNone\u001b[39;00m, y: Hashable | \u001b[38;5;28;01mNone\u001b[39;00m = \u001b[38;5;28;01mNone\u001b[39;00m, **kwargs\n\u001b[32m   1182\u001b[39m ) -> PlotAccessor:\n\u001b[32m   1183\u001b[39m \u001b[38;5;250m    \u001b[39m\u001b[33;03m\"\"\"\u001b[39;00m\n\u001b[32m   1184\u001b[39m \u001b[33;03m    Vertical bar plot.\u001b[39;00m\n\u001b[32m   1185\u001b[39m \n\u001b[32m   (...)\u001b[39m\u001b[32m   1190\u001b[39m \u001b[33;03m    other axis represents a measured value.\u001b[39;00m\n\u001b[32m   1191\u001b[39m \u001b[33;03m    \"\"\"\u001b[39;00m\n\u001b[32m-> \u001b[39m\u001b[32m1192\u001b[39m     \u001b[38;5;28;01mreturn\u001b[39;00m \u001b[38;5;28;43mself\u001b[39;49m\u001b[43m(\u001b[49m\u001b[43mkind\u001b[49m\u001b[43m=\u001b[49m\u001b[33;43m\"\u001b[39;49m\u001b[33;43mbar\u001b[39;49m\u001b[33;43m\"\u001b[39;49m\u001b[43m,\u001b[49m\u001b[43m \u001b[49m\u001b[43mx\u001b[49m\u001b[43m=\u001b[49m\u001b[43mx\u001b[49m\u001b[43m,\u001b[49m\u001b[43m \u001b[49m\u001b[43my\u001b[49m\u001b[43m=\u001b[49m\u001b[43my\u001b[49m\u001b[43m,\u001b[49m\u001b[43m \u001b[49m\u001b[43m*\u001b[49m\u001b[43m*\u001b[49m\u001b[43mkwargs\u001b[49m\u001b[43m)\u001b[49m\n",
      "\u001b[36mFile \u001b[39m\u001b[32md:\\Sem2\\Research paper last round\\projectcode\\FinalProject\\recruitment_fairness\\.venv\\Lib\\site-packages\\pandas\\plotting\\_core.py:947\u001b[39m, in \u001b[36mPlotAccessor.__call__\u001b[39m\u001b[34m(self, *args, **kwargs)\u001b[39m\n\u001b[32m    946\u001b[39m \u001b[38;5;28;01mdef\u001b[39;00m\u001b[38;5;250m \u001b[39m\u001b[34m__call__\u001b[39m(\u001b[38;5;28mself\u001b[39m, *args, **kwargs):\n\u001b[32m--> \u001b[39m\u001b[32m947\u001b[39m     plot_backend = \u001b[43m_get_plot_backend\u001b[49m\u001b[43m(\u001b[49m\u001b[43mkwargs\u001b[49m\u001b[43m.\u001b[49m\u001b[43mpop\u001b[49m\u001b[43m(\u001b[49m\u001b[33;43m\"\u001b[39;49m\u001b[33;43mbackend\u001b[39;49m\u001b[33;43m\"\u001b[39;49m\u001b[43m,\u001b[49m\u001b[43m \u001b[49m\u001b[38;5;28;43;01mNone\u001b[39;49;00m\u001b[43m)\u001b[49m\u001b[43m)\u001b[49m\n\u001b[32m    949\u001b[39m     x, y, kind, kwargs = \u001b[38;5;28mself\u001b[39m._get_call_args(\n\u001b[32m    950\u001b[39m         plot_backend.\u001b[34m__name__\u001b[39m, \u001b[38;5;28mself\u001b[39m._parent, args, kwargs\n\u001b[32m    951\u001b[39m     )\n\u001b[32m    953\u001b[39m     kind = \u001b[38;5;28mself\u001b[39m._kind_aliases.get(kind, kind)\n",
      "\u001b[36mFile \u001b[39m\u001b[32md:\\Sem2\\Research paper last round\\projectcode\\FinalProject\\recruitment_fairness\\.venv\\Lib\\site-packages\\pandas\\plotting\\_core.py:1944\u001b[39m, in \u001b[36m_get_plot_backend\u001b[39m\u001b[34m(backend)\u001b[39m\n\u001b[32m   1941\u001b[39m \u001b[38;5;28;01mif\u001b[39;00m backend_str \u001b[38;5;129;01min\u001b[39;00m _backends:\n\u001b[32m   1942\u001b[39m     \u001b[38;5;28;01mreturn\u001b[39;00m _backends[backend_str]\n\u001b[32m-> \u001b[39m\u001b[32m1944\u001b[39m module = \u001b[43m_load_backend\u001b[49m\u001b[43m(\u001b[49m\u001b[43mbackend_str\u001b[49m\u001b[43m)\u001b[49m\n\u001b[32m   1945\u001b[39m _backends[backend_str] = module\n\u001b[32m   1946\u001b[39m \u001b[38;5;28;01mreturn\u001b[39;00m module\n",
      "\u001b[36mFile \u001b[39m\u001b[32md:\\Sem2\\Research paper last round\\projectcode\\FinalProject\\recruitment_fairness\\.venv\\Lib\\site-packages\\pandas\\plotting\\_core.py:1874\u001b[39m, in \u001b[36m_load_backend\u001b[39m\u001b[34m(backend)\u001b[39m\n\u001b[32m   1872\u001b[39m         module = importlib.import_module(\u001b[33m\"\u001b[39m\u001b[33mpandas.plotting._matplotlib\u001b[39m\u001b[33m\"\u001b[39m)\n\u001b[32m   1873\u001b[39m     \u001b[38;5;28;01mexcept\u001b[39;00m \u001b[38;5;167;01mImportError\u001b[39;00m:\n\u001b[32m-> \u001b[39m\u001b[32m1874\u001b[39m         \u001b[38;5;28;01mraise\u001b[39;00m \u001b[38;5;167;01mImportError\u001b[39;00m(\n\u001b[32m   1875\u001b[39m             \u001b[33m\"\u001b[39m\u001b[33mmatplotlib is required for plotting when the \u001b[39m\u001b[33m\"\u001b[39m\n\u001b[32m   1876\u001b[39m             \u001b[33m'\u001b[39m\u001b[33mdefault backend \u001b[39m\u001b[33m\"\u001b[39m\u001b[33mmatplotlib\u001b[39m\u001b[33m\"\u001b[39m\u001b[33m is selected.\u001b[39m\u001b[33m'\u001b[39m\n\u001b[32m   1877\u001b[39m         ) \u001b[38;5;28;01mfrom\u001b[39;00m\u001b[38;5;250m \u001b[39m\u001b[38;5;28;01mNone\u001b[39;00m\n\u001b[32m   1878\u001b[39m     \u001b[38;5;28;01mreturn\u001b[39;00m module\n\u001b[32m   1880\u001b[39m found_backend = \u001b[38;5;28;01mFalse\u001b[39;00m\n",
      "\u001b[31mImportError\u001b[39m: matplotlib is required for plotting when the default backend \"matplotlib\" is selected."
     ]
    }
   ],
   "source": [
    "# Cell 5: distribution by phase\n",
    "df[\"phase\"].value_counts().plot.bar();\n"
   ]
  },
  {
   "cell_type": "code",
   "execution_count": null,
   "id": "8cb2e064",
   "metadata": {},
   "outputs": [],
   "source": [
    "# Cell 6: force re-download\n",
    "df2 = load_trials(force_download=True)\n"
   ]
  }
 ],
 "metadata": {
  "kernelspec": {
   "display_name": ".venv",
   "language": "python",
   "name": "python3"
  },
  "language_info": {
   "codemirror_mode": {
    "name": "ipython",
    "version": 3
   },
   "file_extension": ".py",
   "mimetype": "text/x-python",
   "name": "python",
   "nbconvert_exporter": "python",
   "pygments_lexer": "ipython3",
   "version": "3.12.10"
  }
 },
 "nbformat": 4,
 "nbformat_minor": 5
}
