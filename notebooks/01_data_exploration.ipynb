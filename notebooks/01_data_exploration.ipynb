{
 "cells": [
  {
   "cell_type": "markdown",
   "id": "259ec5ed",
   "metadata": {},
   "source": [
    "# 01: Data Exploration\n",
    "**Objective:** load clinical trial data and verify its shape, columns, and basic distributions.\n"
   ]
  },
  {
   "cell_type": "code",
   "execution_count": null,
   "id": "4c833e37",
   "metadata": {},
   "outputs": [],
   "source": [
    "# Cell 2: imports\n",
    "import pandas as pd\n",
    "from recruitment_fairness.data.loader import load_trials\n"
   ]
  },
  {
   "cell_type": "code",
   "execution_count": null,
   "id": "08e4c783",
   "metadata": {},
   "outputs": [],
   "source": [
    "# Cell 3: load data\n",
    "df = load_trials()\n",
    "print(f\"Loaded {len(df)} trials\")\n",
    "df.head()\n"
   ]
  },
  {
   "cell_type": "code",
   "execution_count": null,
   "id": "bda14667",
   "metadata": {},
   "outputs": [],
   "source": [
    "# Cell 4: unique statuses\n",
    "df[\"OverallStatus\"].value_counts(normalize=True)\n"
   ]
  },
  {
   "cell_type": "code",
   "execution_count": null,
   "id": "7334fe7f",
   "metadata": {},
   "outputs": [],
   "source": [
    "# Cell 5: distribution by phase\n",
    "df[\"Phase\"].value_counts().plot.bar();\n"
   ]
  },
  {
   "cell_type": "code",
   "execution_count": null,
   "id": "8cb2e064",
   "metadata": {},
   "outputs": [],
   "source": [
    "# Cell 6: force re-download\n",
    "df2 = load_trials(force_download=True)\n"
   ]
  }
 ],
 "metadata": {
  "kernelspec": {
   "display_name": ".venv",
   "language": "python",
   "name": "python3"
  },
  "language_info": {
   "name": "python",
   "version": "3.12.10"
  }
 },
 "nbformat": 4,
 "nbformat_minor": 5
}
